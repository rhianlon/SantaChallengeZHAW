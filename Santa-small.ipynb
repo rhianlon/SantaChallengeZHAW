{
 "cells": [
  {
   "cell_type": "code",
   "execution_count": 1,
   "id": "a79cec18-d6a2-4965-9f76-51cfeffbde7b",
   "metadata": {},
   "outputs": [
    {
     "name": "stdout",
     "output_type": "stream",
     "text": [
      "Requirement already satisfied: pulp in c:\\developper\\python\\python10.6\\lib\\site-packages (2.7.0)\n",
      "Note: you may need to restart the kernel to use updated packages.\n"
     ]
    },
    {
     "name": "stderr",
     "output_type": "stream",
     "text": [
      "\n",
      "[notice] A new release of pip available: 22.2.2 -> 22.3.1\n",
      "[notice] To update, run: python.exe -m pip install --upgrade pip\n"
     ]
    }
   ],
   "source": [
    "%pip install pulp"
   ]
  },
  {
   "cell_type": "code",
   "execution_count": 2,
   "id": "60bb5272-7d48-460c-9dda-9929131c54b2",
   "metadata": {},
   "outputs": [
    {
     "name": "stdout",
     "output_type": "stream",
     "text": [
      "Requirement already satisfied: haversine in c:\\developper\\python\\python10.6\\lib\\site-packages (2.7.0)\n",
      "Note: you may need to restart the kernel to use updated packages.\n"
     ]
    },
    {
     "name": "stderr",
     "output_type": "stream",
     "text": [
      "\n",
      "[notice] A new release of pip available: 22.2.2 -> 22.3.1\n",
      "[notice] To update, run: python.exe -m pip install --upgrade pip\n"
     ]
    }
   ],
   "source": [
    "%pip install haversine"
   ]
  },
  {
   "cell_type": "code",
   "execution_count": 3,
   "id": "d250c9f1-07e3-4caf-ae2c-001f6c6d66ee",
   "metadata": {},
   "outputs": [],
   "source": [
    "import pandas as pd\n",
    "import numpy as np\n",
    "import matplotlib.pyplot as plt\n",
    "import pulp\n",
    "from haversine import haversine, Unit"
   ]
  },
  {
   "cell_type": "code",
   "execution_count": 4,
   "id": "858c5424-738c-4e0e-b2de-eb125e3f9ddd",
   "metadata": {},
   "outputs": [
    {
     "data": {
      "text/plain": [
       "GiftId        0\n",
       "Latitude     90\n",
       "Longitude     0\n",
       "Weight        0\n",
       "Name: 0, dtype: int64"
      ]
     },
     "execution_count": 4,
     "metadata": {},
     "output_type": "execute_result"
    }
   ],
   "source": [
    "df = pd.read_csv('gifts.csv')\n",
    "df = df.sample(n=500, replace=False)\n",
    "northpole = pd.DataFrame([[0, 90, 0, 0]], columns=['GiftId', 'Latitude', 'Longitude', 'Weight']).iloc[0]\n",
    "northpole"
   ]
  },
  {
   "cell_type": "code",
   "execution_count": 5,
   "id": "a8b95dee-bb02-4836-a174-a592f244839c",
   "metadata": {},
   "outputs": [
    {
     "data": {
      "text/html": [
       "<div>\n",
       "<style scoped>\n",
       "    .dataframe tbody tr th:only-of-type {\n",
       "        vertical-align: middle;\n",
       "    }\n",
       "\n",
       "    .dataframe tbody tr th {\n",
       "        vertical-align: top;\n",
       "    }\n",
       "\n",
       "    .dataframe thead th {\n",
       "        text-align: right;\n",
       "    }\n",
       "</style>\n",
       "<table border=\"1\" class=\"dataframe\">\n",
       "  <thead>\n",
       "    <tr style=\"text-align: right;\">\n",
       "      <th></th>\n",
       "      <th>GiftId</th>\n",
       "      <th>Latitude</th>\n",
       "      <th>Longitude</th>\n",
       "      <th>Weight</th>\n",
       "    </tr>\n",
       "  </thead>\n",
       "  <tbody>\n",
       "    <tr>\n",
       "      <th>99509</th>\n",
       "      <td>99510</td>\n",
       "      <td>-1.921363</td>\n",
       "      <td>-59.679418</td>\n",
       "      <td>50.0</td>\n",
       "    </tr>\n",
       "    <tr>\n",
       "      <th>53316</th>\n",
       "      <td>53317</td>\n",
       "      <td>51.891518</td>\n",
       "      <td>48.800179</td>\n",
       "      <td>50.0</td>\n",
       "    </tr>\n",
       "    <tr>\n",
       "      <th>26397</th>\n",
       "      <td>26398</td>\n",
       "      <td>44.909027</td>\n",
       "      <td>-68.749538</td>\n",
       "      <td>50.0</td>\n",
       "    </tr>\n",
       "    <tr>\n",
       "      <th>95919</th>\n",
       "      <td>95920</td>\n",
       "      <td>41.433206</td>\n",
       "      <td>-93.878230</td>\n",
       "      <td>50.0</td>\n",
       "    </tr>\n",
       "    <tr>\n",
       "      <th>25184</th>\n",
       "      <td>25185</td>\n",
       "      <td>-12.496533</td>\n",
       "      <td>27.052909</td>\n",
       "      <td>50.0</td>\n",
       "    </tr>\n",
       "    <tr>\n",
       "      <th>...</th>\n",
       "      <td>...</td>\n",
       "      <td>...</td>\n",
       "      <td>...</td>\n",
       "      <td>...</td>\n",
       "    </tr>\n",
       "    <tr>\n",
       "      <th>49902</th>\n",
       "      <td>49903</td>\n",
       "      <td>47.789414</td>\n",
       "      <td>92.330009</td>\n",
       "      <td>1.0</td>\n",
       "    </tr>\n",
       "    <tr>\n",
       "      <th>83338</th>\n",
       "      <td>83339</td>\n",
       "      <td>6.178655</td>\n",
       "      <td>-1.884987</td>\n",
       "      <td>1.0</td>\n",
       "    </tr>\n",
       "    <tr>\n",
       "      <th>95856</th>\n",
       "      <td>95857</td>\n",
       "      <td>-6.355352</td>\n",
       "      <td>-71.407783</td>\n",
       "      <td>1.0</td>\n",
       "    </tr>\n",
       "    <tr>\n",
       "      <th>95523</th>\n",
       "      <td>95524</td>\n",
       "      <td>14.091087</td>\n",
       "      <td>43.553297</td>\n",
       "      <td>1.0</td>\n",
       "    </tr>\n",
       "    <tr>\n",
       "      <th>24515</th>\n",
       "      <td>24516</td>\n",
       "      <td>18.997844</td>\n",
       "      <td>11.947601</td>\n",
       "      <td>1.0</td>\n",
       "    </tr>\n",
       "  </tbody>\n",
       "</table>\n",
       "<p>500 rows × 4 columns</p>\n",
       "</div>"
      ],
      "text/plain": [
       "       GiftId   Latitude  Longitude  Weight\n",
       "99509   99510  -1.921363 -59.679418    50.0\n",
       "53316   53317  51.891518  48.800179    50.0\n",
       "26397   26398  44.909027 -68.749538    50.0\n",
       "95919   95920  41.433206 -93.878230    50.0\n",
       "25184   25185 -12.496533  27.052909    50.0\n",
       "...       ...        ...        ...     ...\n",
       "49902   49903  47.789414  92.330009     1.0\n",
       "83338   83339   6.178655  -1.884987     1.0\n",
       "95856   95857  -6.355352 -71.407783     1.0\n",
       "95523   95524  14.091087  43.553297     1.0\n",
       "24515   24516  18.997844  11.947601     1.0\n",
       "\n",
       "[500 rows x 4 columns]"
      ]
     },
     "execution_count": 5,
     "metadata": {},
     "output_type": "execute_result"
    }
   ],
   "source": [
    "sorted_weight = df.sort_values(by=['Weight'],ascending=False)\n",
    "sorted_weight\n"
   ]
  },
  {
   "cell_type": "code",
   "execution_count": 6,
   "id": "fd4748ee-6e8c-49f7-9538-d55b11a1d5b6",
   "metadata": {},
   "outputs": [
    {
     "data": {
      "image/png": "[encoded data removed]",
      "text/plain": [
       "<Figure size 640x480 with 1 Axes>"
      ]
     },
     "metadata": {},
     "output_type": "display_data"
    }
   ],
   "source": [
    "x = sorted_weight[\"Weight\"]\n",
    "plt.style.use('ggplot')\n",
    "plt.hist(x, bins=20)\n",
    "plt.show()"
   ]
  },
  {
   "cell_type": "code",
   "execution_count": 7,
   "id": "3abfbddb-dbb9-496c-90d2-e4f9ce8a7fe6",
   "metadata": {},
   "outputs": [],
   "source": [
    "def findNext(startPoint,points):\n",
    "    distances = np.array([haversine((startPoint[0],startPoint[1]),(point[0],point[1])) for point in points])\n",
    "    best_ind = np.argmin(distances)\n",
    "    return points[best_ind]"
   ]
  },
  {
   "cell_type": "code",
   "execution_count": 8,
   "id": "b49fa44b-0ccd-4994-9799-2ae692f9d93b",
   "metadata": {},
   "outputs": [
    {
     "ename": "TypeError",
     "evalue": "'<' not supported between instances of 'str' and 'int'",
     "output_type": "error",
     "traceback": [
      "\u001b[1;31m---------------------------------------------------------------------------\u001b[0m",
      "\u001b[1;31mTypeError\u001b[0m                                 Traceback (most recent call last)",
      "Cell \u001b[1;32mIn [8], line 6\u001b[0m\n\u001b[0;32m      3\u001b[0m path \u001b[38;5;241m=\u001b[39m pd\u001b[38;5;241m.\u001b[39mDataFrame(columns\u001b[38;5;241m=\u001b[39m[\u001b[38;5;124m'\u001b[39m\u001b[38;5;124mGiftId\u001b[39m\u001b[38;5;124m'\u001b[39m, \u001b[38;5;124m'\u001b[39m\u001b[38;5;124mLatitude\u001b[39m\u001b[38;5;124m'\u001b[39m, \u001b[38;5;124m'\u001b[39m\u001b[38;5;124mLongitude\u001b[39m\u001b[38;5;124m'\u001b[39m, \u001b[38;5;124m'\u001b[39m\u001b[38;5;124mWeight\u001b[39m\u001b[38;5;124m'\u001b[39m])\n\u001b[0;32m      5\u001b[0m \u001b[38;5;28;01mwhile\u001b[39;00m \u001b[38;5;28mlen\u001b[39m(remainingVectors) \u001b[38;5;241m>\u001b[39m \u001b[38;5;241m0\u001b[39m:\n\u001b[1;32m----> 6\u001b[0m     currentpoint \u001b[38;5;241m=\u001b[39m \u001b[43mfindNext\u001b[49m\u001b[43m(\u001b[49m\u001b[43mcurrentpoint\u001b[49m\u001b[43m,\u001b[49m\u001b[43mremainingVectors\u001b[49m\u001b[43m)\u001b[49m\n\u001b[0;32m      7\u001b[0m     remainingVectors\u001b[38;5;241m.\u001b[39mremove(currentpoint)\n\u001b[0;32m      8\u001b[0m     path\u001b[38;5;241m.\u001b[39mappend(currentpoint)\n",
      "Cell \u001b[1;32mIn [7], line 3\u001b[0m, in \u001b[0;36mfindNext\u001b[1;34m(startPoint, points)\u001b[0m\n\u001b[0;32m      1\u001b[0m \u001b[38;5;28;01mdef\u001b[39;00m \u001b[38;5;21mfindNext\u001b[39m(startPoint,points):\n\u001b[0;32m      2\u001b[0m     bestDistance \u001b[38;5;241m=\u001b[39m \u001b[38;5;28mfloat\u001b[39m(\u001b[38;5;124m'\u001b[39m\u001b[38;5;124minf\u001b[39m\u001b[38;5;124m'\u001b[39m)\n\u001b[1;32m----> 3\u001b[0m     distances \u001b[38;5;241m=\u001b[39m np\u001b[38;5;241m.\u001b[39marray([haversine((startPoint[\u001b[38;5;241m0\u001b[39m],startPoint[\u001b[38;5;241m1\u001b[39m]),(point[\u001b[38;5;241m0\u001b[39m],point[\u001b[38;5;241m1\u001b[39m])) \u001b[38;5;28;01mfor\u001b[39;00m point \u001b[38;5;129;01min\u001b[39;00m points])\n\u001b[0;32m      4\u001b[0m     best_ind \u001b[38;5;241m=\u001b[39m np\u001b[38;5;241m.\u001b[39margmin(distances)\n\u001b[0;32m      5\u001b[0m     \u001b[38;5;28;01mreturn\u001b[39;00m points[best_ind]\n",
      "Cell \u001b[1;32mIn [7], line 3\u001b[0m, in \u001b[0;36m<listcomp>\u001b[1;34m(.0)\u001b[0m\n\u001b[0;32m      1\u001b[0m \u001b[38;5;28;01mdef\u001b[39;00m \u001b[38;5;21mfindNext\u001b[39m(startPoint,points):\n\u001b[0;32m      2\u001b[0m     bestDistance \u001b[38;5;241m=\u001b[39m \u001b[38;5;28mfloat\u001b[39m(\u001b[38;5;124m'\u001b[39m\u001b[38;5;124minf\u001b[39m\u001b[38;5;124m'\u001b[39m)\n\u001b[1;32m----> 3\u001b[0m     distances \u001b[38;5;241m=\u001b[39m np\u001b[38;5;241m.\u001b[39marray([\u001b[43mhaversine\u001b[49m\u001b[43m(\u001b[49m\u001b[43m(\u001b[49m\u001b[43mstartPoint\u001b[49m\u001b[43m[\u001b[49m\u001b[38;5;241;43m0\u001b[39;49m\u001b[43m]\u001b[49m\u001b[43m,\u001b[49m\u001b[43mstartPoint\u001b[49m\u001b[43m[\u001b[49m\u001b[38;5;241;43m1\u001b[39;49m\u001b[43m]\u001b[49m\u001b[43m)\u001b[49m\u001b[43m,\u001b[49m\u001b[43m(\u001b[49m\u001b[43mpoint\u001b[49m\u001b[43m[\u001b[49m\u001b[38;5;241;43m0\u001b[39;49m\u001b[43m]\u001b[49m\u001b[43m,\u001b[49m\u001b[43mpoint\u001b[49m\u001b[43m[\u001b[49m\u001b[38;5;241;43m1\u001b[39;49m\u001b[43m]\u001b[49m\u001b[43m)\u001b[49m\u001b[43m)\u001b[49m \u001b[38;5;28;01mfor\u001b[39;00m point \u001b[38;5;129;01min\u001b[39;00m points])\n\u001b[0;32m      4\u001b[0m     best_ind \u001b[38;5;241m=\u001b[39m np\u001b[38;5;241m.\u001b[39margmin(distances)\n\u001b[0;32m      5\u001b[0m     \u001b[38;5;28;01mreturn\u001b[39;00m points[best_ind]\n",
      "File \u001b[1;32mC:\\Developper\\Python\\Python10.6\\lib\\site-packages\\haversine\\haversine.py:120\u001b[0m, in \u001b[0;36mhaversine\u001b[1;34m(point1, point2, unit, normalize)\u001b[0m\n\u001b[0;32m    118\u001b[0m \u001b[38;5;28;01melse\u001b[39;00m:\n\u001b[0;32m    119\u001b[0m     _ensure_lat_lon(lat1, lng1)\n\u001b[1;32m--> 120\u001b[0m     \u001b[43m_ensure_lat_lon\u001b[49m\u001b[43m(\u001b[49m\u001b[43mlat2\u001b[49m\u001b[43m,\u001b[49m\u001b[43m \u001b[49m\u001b[43mlng2\u001b[49m\u001b[43m)\u001b[49m\n\u001b[0;32m    122\u001b[0m \u001b[38;5;66;03m# convert all latitudes/longitudes from decimal degrees to radians\u001b[39;00m\n\u001b[0;32m    123\u001b[0m lat1 \u001b[38;5;241m=\u001b[39m radians(lat1)\n",
      "File \u001b[1;32mC:\\Developper\\Python\\Python10.6\\lib\\site-packages\\haversine\\haversine.py:79\u001b[0m, in \u001b[0;36m_ensure_lat_lon\u001b[1;34m(lat, lon)\u001b[0m\n\u001b[0;32m     75\u001b[0m \u001b[38;5;28;01mdef\u001b[39;00m \u001b[38;5;21m_ensure_lat_lon\u001b[39m(lat: \u001b[38;5;28mfloat\u001b[39m, lon: \u001b[38;5;28mfloat\u001b[39m):\n\u001b[0;32m     76\u001b[0m     \u001b[38;5;124;03m\"\"\"\u001b[39;00m\n\u001b[0;32m     77\u001b[0m \u001b[38;5;124;03m    Ensure that the given latitude and longitude have proper values. An exception is raised if they are not.\u001b[39;00m\n\u001b[0;32m     78\u001b[0m \u001b[38;5;124;03m    \"\"\"\u001b[39;00m\n\u001b[1;32m---> 79\u001b[0m     \u001b[38;5;28;01mif\u001b[39;00m \u001b[43mlat\u001b[49m\u001b[43m \u001b[49m\u001b[38;5;241;43m<\u001b[39;49m\u001b[43m \u001b[49m\u001b[38;5;241;43m-\u001b[39;49m\u001b[38;5;241;43m90\u001b[39;49m \u001b[38;5;129;01mor\u001b[39;00m lat \u001b[38;5;241m>\u001b[39m \u001b[38;5;241m90\u001b[39m:\n\u001b[0;32m     80\u001b[0m         \u001b[38;5;28;01mraise\u001b[39;00m \u001b[38;5;167;01mValueError\u001b[39;00m(\u001b[38;5;124mf\u001b[39m\u001b[38;5;124m\"\u001b[39m\u001b[38;5;124mLatitude \u001b[39m\u001b[38;5;132;01m{\u001b[39;00mlat\u001b[38;5;132;01m}\u001b[39;00m\u001b[38;5;124m is out of range [-90, 90]\u001b[39m\u001b[38;5;124m\"\u001b[39m)\n\u001b[0;32m     81\u001b[0m     \u001b[38;5;28;01mif\u001b[39;00m lon \u001b[38;5;241m<\u001b[39m \u001b[38;5;241m-\u001b[39m\u001b[38;5;241m180\u001b[39m \u001b[38;5;129;01mor\u001b[39;00m lon \u001b[38;5;241m>\u001b[39m \u001b[38;5;241m180\u001b[39m:\n",
      "\u001b[1;31mTypeError\u001b[0m: '<' not supported between instances of 'str' and 'int'"
     ]
    }
   ],
   "source": [
    "currentpoint = northpole\n",
    "remainingVectors = df\n",
    "path = pd.DataFrame(columns=['GiftId', 'Latitude', 'Longitude', 'Weight'])\n",
    "\n",
    "while len(remainingVectors) > 0:\n",
    "    currentpoint = findNext(currentpoint,remainingVectors)\n",
    "    remainingVectors.remove(currentpoint)\n",
    "    path.append(currentpoint)\n",
    "\n",
    "\n",
    "path\n"
   ]
  },
  {
   "cell_type": "code",
   "execution_count": null,
   "id": "485a7d66",
   "metadata": {},
   "outputs": [],
   "source": []
  }
 ],
 "metadata": {
  "kernelspec": {
   "display_name": "Python 3 (ipykernel)",
   "language": "python",
   "name": "python3"
  },
  "language_info": {
   "codemirror_mode": {
    "name": "ipython",
    "version": 3
   },
   "file_extension": ".py",
   "mimetype": "text/x-python",
   "name": "python",
   "nbconvert_exporter": "python",
   "pygments_lexer": "ipython3",
   "version": "3.10.6"
  }
 },
 "nbformat": 4,
 "nbformat_minor": 5
}
