{
 "cells": [
  {
   "cell_type": "code",
   "execution_count": 11,
   "id": "a79cec18-d6a2-4965-9f76-51cfeffbde7b",
   "metadata": {},
   "outputs": [
    {
     "name": "stdout",
     "output_type": "stream",
     "text": [
      "Collecting pulp\n",
      "  Downloading PuLP-2.7.0-py3-none-any.whl (14.3 MB)\n",
      "     --------------------------------------- 14.3/14.3 MB 29.7 MB/s eta 0:00:00\n",
      "Installing collected packages: pulp\n",
      "Successfully installed pulp-2.7.0\n",
      "Note: you may need to restart the kernel to use updated packages.\n"
     ]
    },
    {
     "name": "stderr",
     "output_type": "stream",
     "text": [
      "\n",
      "[notice] A new release of pip available: 22.2.2 -> 22.3.1\n",
      "[notice] To update, run: python.exe -m pip install --upgrade pip\n"
     ]
    }
   ],
   "source": [
    "%pip install pulp"
   ]
  },
  {
   "cell_type": "code",
   "execution_count": 16,
   "id": "60bb5272-7d48-460c-9dda-9929131c54b2",
   "metadata": {},
   "outputs": [
    {
     "name": "stdout",
     "output_type": "stream",
     "text": [
      "Requirement already satisfied: haversine in c:\\developper\\python\\python10.6\\lib\\site-packages (2.7.0)\n",
      "Note: you may need to restart the kernel to use updated packages.\n"
     ]
    },
    {
     "name": "stderr",
     "output_type": "stream",
     "text": [
      "\n",
      "[notice] A new release of pip available: 22.2.2 -> 22.3.1\n",
      "[notice] To update, run: python.exe -m pip install --upgrade pip\n"
     ]
    }
   ],
   "source": [
    "%pip install haversine"
   ]
  },
  {
   "cell_type": "code",
   "execution_count": 17,
   "id": "d250c9f1-07e3-4caf-ae2c-001f6c6d66ee",
   "metadata": {},
   "outputs": [],
   "source": [
    "import pandas as pd\n",
    "import matplotlib.pyplot as plt\n",
    "import pulp\n",
    "from haversine import haversine, Unit"
   ]
  },
  {
   "cell_type": "code",
   "execution_count": 2,
   "id": "858c5424-738c-4e0e-b2de-eb125e3f9ddd",
   "metadata": {},
   "outputs": [
    {
     "data": {
      "text/html": [
       "<div>\n",
       "<style scoped>\n",
       "    .dataframe tbody tr th:only-of-type {\n",
       "        vertical-align: middle;\n",
       "    }\n",
       "\n",
       "    .dataframe tbody tr th {\n",
       "        vertical-align: top;\n",
       "    }\n",
       "\n",
       "    .dataframe thead th {\n",
       "        text-align: right;\n",
       "    }\n",
       "</style>\n",
       "<table border=\"1\" class=\"dataframe\">\n",
       "  <thead>\n",
       "    <tr style=\"text-align: right;\">\n",
       "      <th></th>\n",
       "      <th>GiftId</th>\n",
       "      <th>Latitude</th>\n",
       "      <th>Longitude</th>\n",
       "      <th>Weight</th>\n",
       "    </tr>\n",
       "  </thead>\n",
       "  <tbody>\n",
       "    <tr>\n",
       "      <th>0</th>\n",
       "      <td>1</td>\n",
       "      <td>16.345769</td>\n",
       "      <td>6.303545</td>\n",
       "      <td>1.000000</td>\n",
       "    </tr>\n",
       "    <tr>\n",
       "      <th>1</th>\n",
       "      <td>2</td>\n",
       "      <td>12.494749</td>\n",
       "      <td>28.626396</td>\n",
       "      <td>15.524480</td>\n",
       "    </tr>\n",
       "    <tr>\n",
       "      <th>2</th>\n",
       "      <td>3</td>\n",
       "      <td>27.794615</td>\n",
       "      <td>60.032495</td>\n",
       "      <td>8.058499</td>\n",
       "    </tr>\n",
       "    <tr>\n",
       "      <th>3</th>\n",
       "      <td>4</td>\n",
       "      <td>44.426992</td>\n",
       "      <td>110.114216</td>\n",
       "      <td>1.000000</td>\n",
       "    </tr>\n",
       "    <tr>\n",
       "      <th>4</th>\n",
       "      <td>5</td>\n",
       "      <td>-69.854088</td>\n",
       "      <td>87.946878</td>\n",
       "      <td>25.088892</td>\n",
       "    </tr>\n",
       "    <tr>\n",
       "      <th>...</th>\n",
       "      <td>...</td>\n",
       "      <td>...</td>\n",
       "      <td>...</td>\n",
       "      <td>...</td>\n",
       "    </tr>\n",
       "    <tr>\n",
       "      <th>99995</th>\n",
       "      <td>99996</td>\n",
       "      <td>-86.087115</td>\n",
       "      <td>-19.991474</td>\n",
       "      <td>10.927676</td>\n",
       "    </tr>\n",
       "    <tr>\n",
       "      <th>99996</th>\n",
       "      <td>99997</td>\n",
       "      <td>40.259124</td>\n",
       "      <td>-110.689749</td>\n",
       "      <td>9.347134</td>\n",
       "    </tr>\n",
       "    <tr>\n",
       "      <th>99997</th>\n",
       "      <td>99998</td>\n",
       "      <td>42.393016</td>\n",
       "      <td>0.011825</td>\n",
       "      <td>1.000000</td>\n",
       "    </tr>\n",
       "    <tr>\n",
       "      <th>99998</th>\n",
       "      <td>99999</td>\n",
       "      <td>-75.919193</td>\n",
       "      <td>-10.193532</td>\n",
       "      <td>1.000000</td>\n",
       "    </tr>\n",
       "    <tr>\n",
       "      <th>99999</th>\n",
       "      <td>100000</td>\n",
       "      <td>11.106159</td>\n",
       "      <td>40.230236</td>\n",
       "      <td>1.000000</td>\n",
       "    </tr>\n",
       "  </tbody>\n",
       "</table>\n",
       "<p>100000 rows × 4 columns</p>\n",
       "</div>"
      ],
      "text/plain": [
       "       GiftId   Latitude   Longitude     Weight\n",
       "0           1  16.345769    6.303545   1.000000\n",
       "1           2  12.494749   28.626396  15.524480\n",
       "2           3  27.794615   60.032495   8.058499\n",
       "3           4  44.426992  110.114216   1.000000\n",
       "4           5 -69.854088   87.946878  25.088892\n",
       "...       ...        ...         ...        ...\n",
       "99995   99996 -86.087115  -19.991474  10.927676\n",
       "99996   99997  40.259124 -110.689749   9.347134\n",
       "99997   99998  42.393016    0.011825   1.000000\n",
       "99998   99999 -75.919193  -10.193532   1.000000\n",
       "99999  100000  11.106159   40.230236   1.000000\n",
       "\n",
       "[100000 rows x 4 columns]"
      ]
     },
     "execution_count": 2,
     "metadata": {},
     "output_type": "execute_result"
    }
   ],
   "source": [
    "df = pd.read_csv('gifts.csv')\n",
    "df"
   ]
  },
  {
   "cell_type": "code",
   "execution_count": 41,
   "id": "4dcc405c-eb0f-4e13-8536-ad02463a89dc",
   "metadata": {},
   "outputs": [],
   "source": [
    "latitude = df[\"Latitude\"].values.tolist()\n",
    "longitude = df[\"Longitude\"].values.tolist()\n",
    "\n",
    "vectors = list(zip(latitude,longitude))\n"
   ]
  },
  {
   "cell_type": "code",
   "execution_count": 3,
   "id": "a8b95dee-bb02-4836-a174-a592f244839c",
   "metadata": {},
   "outputs": [
    {
     "data": {
      "text/html": [
       "<div>\n",
       "<style scoped>\n",
       "    .dataframe tbody tr th:only-of-type {\n",
       "        vertical-align: middle;\n",
       "    }\n",
       "\n",
       "    .dataframe tbody tr th {\n",
       "        vertical-align: top;\n",
       "    }\n",
       "\n",
       "    .dataframe thead th {\n",
       "        text-align: right;\n",
       "    }\n",
       "</style>\n",
       "<table border=\"1\" class=\"dataframe\">\n",
       "  <thead>\n",
       "    <tr style=\"text-align: right;\">\n",
       "      <th></th>\n",
       "      <th>GiftId</th>\n",
       "      <th>Latitude</th>\n",
       "      <th>Longitude</th>\n",
       "      <th>Weight</th>\n",
       "    </tr>\n",
       "  </thead>\n",
       "  <tbody>\n",
       "    <tr>\n",
       "      <th>55047</th>\n",
       "      <td>55048</td>\n",
       "      <td>23.397175</td>\n",
       "      <td>4.031402</td>\n",
       "      <td>50.0</td>\n",
       "    </tr>\n",
       "    <tr>\n",
       "      <th>2719</th>\n",
       "      <td>2720</td>\n",
       "      <td>46.876776</td>\n",
       "      <td>106.222900</td>\n",
       "      <td>50.0</td>\n",
       "    </tr>\n",
       "    <tr>\n",
       "      <th>18504</th>\n",
       "      <td>18505</td>\n",
       "      <td>49.968062</td>\n",
       "      <td>-117.730307</td>\n",
       "      <td>50.0</td>\n",
       "    </tr>\n",
       "    <tr>\n",
       "      <th>18486</th>\n",
       "      <td>18487</td>\n",
       "      <td>-83.954576</td>\n",
       "      <td>-109.983391</td>\n",
       "      <td>50.0</td>\n",
       "    </tr>\n",
       "    <tr>\n",
       "      <th>55775</th>\n",
       "      <td>55776</td>\n",
       "      <td>48.445299</td>\n",
       "      <td>-66.885909</td>\n",
       "      <td>50.0</td>\n",
       "    </tr>\n",
       "    <tr>\n",
       "      <th>...</th>\n",
       "      <td>...</td>\n",
       "      <td>...</td>\n",
       "      <td>...</td>\n",
       "      <td>...</td>\n",
       "    </tr>\n",
       "    <tr>\n",
       "      <th>50222</th>\n",
       "      <td>50223</td>\n",
       "      <td>26.594148</td>\n",
       "      <td>58.861875</td>\n",
       "      <td>1.0</td>\n",
       "    </tr>\n",
       "    <tr>\n",
       "      <th>50223</th>\n",
       "      <td>50224</td>\n",
       "      <td>-80.385086</td>\n",
       "      <td>78.306156</td>\n",
       "      <td>1.0</td>\n",
       "    </tr>\n",
       "    <tr>\n",
       "      <th>50232</th>\n",
       "      <td>50233</td>\n",
       "      <td>-82.471792</td>\n",
       "      <td>66.555327</td>\n",
       "      <td>1.0</td>\n",
       "    </tr>\n",
       "    <tr>\n",
       "      <th>50236</th>\n",
       "      <td>50237</td>\n",
       "      <td>57.536951</td>\n",
       "      <td>79.390440</td>\n",
       "      <td>1.0</td>\n",
       "    </tr>\n",
       "    <tr>\n",
       "      <th>99999</th>\n",
       "      <td>100000</td>\n",
       "      <td>11.106159</td>\n",
       "      <td>40.230236</td>\n",
       "      <td>1.0</td>\n",
       "    </tr>\n",
       "  </tbody>\n",
       "</table>\n",
       "<p>100000 rows × 4 columns</p>\n",
       "</div>"
      ],
      "text/plain": [
       "       GiftId   Latitude   Longitude  Weight\n",
       "55047   55048  23.397175    4.031402    50.0\n",
       "2719     2720  46.876776  106.222900    50.0\n",
       "18504   18505  49.968062 -117.730307    50.0\n",
       "18486   18487 -83.954576 -109.983391    50.0\n",
       "55775   55776  48.445299  -66.885909    50.0\n",
       "...       ...        ...         ...     ...\n",
       "50222   50223  26.594148   58.861875     1.0\n",
       "50223   50224 -80.385086   78.306156     1.0\n",
       "50232   50233 -82.471792   66.555327     1.0\n",
       "50236   50237  57.536951   79.390440     1.0\n",
       "99999  100000  11.106159   40.230236     1.0\n",
       "\n",
       "[100000 rows x 4 columns]"
      ]
     },
     "execution_count": 3,
     "metadata": {},
     "output_type": "execute_result"
    }
   ],
   "source": [
    "sorted_weight = df.sort_values(by=['Weight'],ascending=False)\n",
    "sorted_weight\n"
   ]
  },
  {
   "cell_type": "code",
   "execution_count": 9,
   "id": "fd4748ee-6e8c-49f7-9538-d55b11a1d5b6",
   "metadata": {},
   "outputs": [
    {
     "data": {
      "image/png": "[encoded data removed]",
      "text/plain": [
       "<Figure size 640x480 with 1 Axes>"
      ]
     },
     "metadata": {},
     "output_type": "display_data"
    }
   ],
   "source": [
    "x = sorted_weight[\"Weight\"]\n",
    "plt.style.use('ggplot')\n",
    "plt.hist(x, bins=20)\n",
    "plt.show()"
   ]
  },
  {
   "cell_type": "code",
   "execution_count": 38,
   "id": "3abfbddb-dbb9-496c-90d2-e4f9ce8a7fe6",
   "metadata": {},
   "outputs": [],
   "source": [
    "def findNext(startPoint,points):\n",
    "        \n",
    "    bestDistance = float('inf')\n",
    "    for point in points:\n",
    "        distance = haversine((startPoint[0],startPoint[1]),(point[0],point[1]))\n",
    "        \n",
    "        if distance < bestDistance:\n",
    "            bestDistance = distance\n",
    "            nextpoint = point\n",
    "    \n",
    "    return nextpoint"
   ]
  },
  {
   "cell_type": "code",
   "execution_count": null,
   "id": "b49fa44b-0ccd-4994-9799-2ae692f9d93b",
   "metadata": {},
   "outputs": [],
   "source": [
    "currentpoint = (90,0)\n",
    "remainingVectors = vectors\n",
    "path = []\n",
    "\n",
    "while len(remainingVectors) > 0:\n",
    "\n",
    "    currentpoint = findNext(currentpoint,remainingVectors)\n",
    "    remainingVectors.remove(currentpoint)\n",
    "    path.append(currentpoint)\n",
    "\n",
    "\n",
    "path    \n",
    "\n",
    "\n"
   ]
  }
 ],
 "metadata": {
  "kernelspec": {
   "display_name": "Python 3 (ipykernel)",
   "language": "python",
   "name": "python3"
  },
  "language_info": {
   "codemirror_mode": {
    "name": "ipython",
    "version": 3
   },
   "file_extension": ".py",
   "mimetype": "text/x-python",
   "name": "python",
   "nbconvert_exporter": "python",
   "pygments_lexer": "ipython3",
   "version": "3.10.6"
  }
 },
 "nbformat": 4,
 "nbformat_minor": 5
}
